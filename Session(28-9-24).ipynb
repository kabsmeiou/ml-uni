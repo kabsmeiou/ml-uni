{
 "cells": [
  {
   "cell_type": "code",
   "execution_count": 1,
   "id": "2dbd37c5-d2e1-4389-80b5-0fbae43e1ebc",
   "metadata": {},
   "outputs": [],
   "source": [
    "import pandas as pd\n",
    "import numpy as np"
   ]
  },
  {
   "cell_type": "markdown",
   "id": "77aed99a-cc3b-4c72-8c81-b74c3077f5ca",
   "metadata": {},
   "source": [
    "# Exercise"
   ]
  },
  {
   "cell_type": "code",
   "execution_count": 31,
   "id": "1335c8e2-8832-46c1-83b0-d9c346aeed78",
   "metadata": {
    "scrolled": true
   },
   "outputs": [
    {
     "data": {
      "text/plain": [
       "[array([12, 18, 22, 29]), array([30, 34, 36, 40]), array([45, 50, 53, 67])]"
      ]
     },
     "execution_count": 31,
     "metadata": {},
     "output_type": "execute_result"
    }
   ],
   "source": [
    "age = np.array([34, 22, 45, 29, 67, 53, 12, 40, 18, 30, 50, 36])\n",
    "sorted_age = np.sort(age)\n",
    "# equal frequency\n",
    "np.split(sorted_age, 3)"
   ]
  },
  {
   "cell_type": "code",
   "execution_count": 25,
   "id": "86102fce-e640-4668-a869-561797a7056b",
   "metadata": {},
   "outputs": [],
   "source": [
    "bin1, bin2, bin3 = np.split(sorted_age, 3)"
   ]
  },
  {
   "cell_type": "code",
   "execution_count": 27,
   "id": "cb43f8b8-0b92-42ed-a970-11b982f5135a",
   "metadata": {},
   "outputs": [],
   "source": [
    "bin2.fill(bin2.mean())"
   ]
  },
  {
   "cell_type": "code",
   "execution_count": 28,
   "id": "c945058b-f0eb-419c-8a66-8c89be378293",
   "metadata": {},
   "outputs": [],
   "source": [
    "bin3.fill(bin3.mean())"
   ]
  },
  {
   "cell_type": "code",
   "execution_count": 29,
   "id": "d00d2506-59d2-4657-b31b-cbd816d2e691",
   "metadata": {},
   "outputs": [],
   "source": [
    "bin4.fill(bin4.mean())"
   ]
  },
  {
   "cell_type": "code",
   "execution_count": 30,
   "id": "465107a1-40fe-4cbc-b559-b1d95d5ce12c",
   "metadata": {},
   "outputs": [
    {
     "name": "stdout",
     "output_type": "stream",
     "text": [
      "[20 20 20 20] [35 35 35 35] [53 53 53 53] [56 56 56]\n"
     ]
    }
   ],
   "source": [
    "print(bin1, bin2, bin3, bin4)"
   ]
  },
  {
   "cell_type": "markdown",
   "id": "21e71834-d2db-47e9-bd97-2c90cfe86aa3",
   "metadata": {},
   "source": [
    "# Sample Linear Regression"
   ]
  },
  {
   "cell_type": "code",
   "execution_count": 37,
   "id": "78766044-8f85-41fa-8d6a-1240ef18d24d",
   "metadata": {},
   "outputs": [],
   "source": [
    "x = np.array([72, 50, 81, 74, 94, 86, 59, 83, 65, 33, 88, 81])  # Hours studied\n",
    "y = np.array([84, 63, 77, 78, 90, 75, 49, 79, 77, 52, 74, 90])  # Exam scores\n",
    "\n",
    "# perform linear regression\n",
    "b, a = np.polyfit(x, y, 1)\n",
    "\n",
    "# predict the values of y using the linear regression model\n",
    "y_pred = a + b * x"
   ]
  },
  {
   "cell_type": "code",
   "execution_count": 39,
   "id": "1461d090-1a59-4cce-898e-162806895d10",
   "metadata": {},
   "outputs": [
    {
     "data": {
      "text/plain": [
       "array([73.90306665, 61.10786495, 79.13746735, 75.06626681, 86.69826836,\n",
       "       82.04546774, 66.34226565, 80.30066751, 69.83186611, 51.22066364,\n",
       "       83.20866789, 79.13746735])"
      ]
     },
     "execution_count": 39,
     "metadata": {},
     "output_type": "execute_result"
    }
   ],
   "source": [
    "y_pred"
   ]
  },
  {
   "cell_type": "markdown",
   "id": "19f25e75-4de3-4395-832c-4d34862ef104",
   "metadata": {},
   "source": [
    "# Data Transformation"
   ]
  },
  {
   "cell_type": "markdown",
   "id": "4c141856-a02e-4b18-b552-d597b7ccbdc1",
   "metadata": {},
   "source": [
    "Techniques include:\n",
    "1. Min-Max Normalization\n",
    "2. Z-score scaling\n",
    "3. Z-score mean absolute deviation\n",
    "4. Decimal scaling"
   ]
  },
  {
   "cell_type": "code",
   "execution_count": null,
   "id": "2a951709-ff9a-4445-93c9-bf2d440eb186",
   "metadata": {},
   "outputs": [],
   "source": []
  }
 ],
 "metadata": {
  "kernelspec": {
   "display_name": "Python 3 (ipykernel)",
   "language": "python",
   "name": "python3"
  },
  "language_info": {
   "codemirror_mode": {
    "name": "ipython",
    "version": 3
   },
   "file_extension": ".py",
   "mimetype": "text/x-python",
   "name": "python",
   "nbconvert_exporter": "python",
   "pygments_lexer": "ipython3",
   "version": "3.11.9"
  }
 },
 "nbformat": 4,
 "nbformat_minor": 5
}
