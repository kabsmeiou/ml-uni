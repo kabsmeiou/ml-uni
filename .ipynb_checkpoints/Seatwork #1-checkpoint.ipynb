{
 "cells": [
  {
   "cell_type": "markdown",
   "id": "e828ca10-83e5-4629-9f52-28ebc5f0a5ac",
   "metadata": {},
   "source": [
    "# ITEC301: Math in Data Preprocessing-Seatwork #1"
   ]
  },
  {
   "cell_type": "markdown",
   "id": "02f999ee-f8b3-4bae-aaae-74948be03d37",
   "metadata": {},
   "source": [
    "### Notebook by: Christian Vincent D. Cabral"
   ]
  },
  {
   "cell_type": "code",
   "execution_count": 1,
   "id": "c0643362-5d50-467c-aa43-cf321cc51753",
   "metadata": {},
   "outputs": [],
   "source": [
    "import numpy as np\n",
    "import pandas as pd"
   ]
  },
  {
   "cell_type": "markdown",
   "id": "9e908a36-def8-43cd-bf1f-361bd6b5ab49",
   "metadata": {},
   "source": [
    "# Seatwork Problem 1"
   ]
  },
  {
   "cell_type": "markdown",
   "id": "57f895a0-3f86-4666-8bca-6cc96142f13f",
   "metadata": {},
   "source": [
    "A group of researchers conducted a survey on the ages of people in the Town of Naga. They did this by simply talking to passersby on Naga Plaza Rizal. From their simple survey they gathered:\n",
    "\n",
    "**Age: [13, 15, 16, 16, 19, 20, 21, 22, 25, 25, 25, 25, 30, 33, 35,\n",
    "35, 35, 35, 36, 45, 46, 52, 35, 38, 30]**\n",
    "\n",
    "```\n",
    "(a) Use the binning method to smooth the above data. Assume that the bin\n",
    "size is 5\n",
    "```"
   ]
  },
  {
   "cell_type": "code",
   "execution_count": 859,
   "id": "69f63549-7501-4c7a-856a-f94e7cb07488",
   "metadata": {},
   "outputs": [],
   "source": [
    "age_group = np.array([13, 15, 16, 16, 19, 20, 21, 22, 25, 25, 25, 25, 30, 33, 35,\n",
    "35, 35, 35, 36, 45, 46, 52, 35, 38, 30])\n",
    "age_group.sort()\n",
    "# group the array into 5 (bins)\n",
    "bins = np.split(age_group, len(age_group) / 5)"
   ]
  },
  {
   "cell_type": "markdown",
   "id": "45ca9fcd-5b99-4ffa-829e-9bf278df8a0a",
   "metadata": {},
   "source": [
    "### Bin Frequency"
   ]
  },
  {
   "cell_type": "code",
   "execution_count": 854,
   "id": "9d626ad3-0d29-451b-889e-afdbfbb04d85",
   "metadata": {},
   "outputs": [
    {
     "data": {
      "text/plain": [
       "[array([13, 15, 16, 16, 19]),\n",
       " array([20, 21, 22, 25, 25]),\n",
       " array([25, 25, 30, 30, 33]),\n",
       " array([35, 35, 35, 35, 35]),\n",
       " array([36, 38, 45, 46, 52])]"
      ]
     },
     "execution_count": 854,
     "metadata": {},
     "output_type": "execute_result"
    }
   ],
   "source": [
    "# equal frequency binning\n",
    "bins"
   ]
  },
  {
   "cell_type": "markdown",
   "id": "7ad05fef-3aa1-4589-9794-915e986e9ed2",
   "metadata": {},
   "source": [
    "### As per the bin means, simply replace the values using the respective bin's mean."
   ]
  },
  {
   "cell_type": "code",
   "execution_count": 856,
   "id": "a4cf6993-cef1-4d5b-a2f5-1fc7ec6797a3",
   "metadata": {},
   "outputs": [],
   "source": [
    "# compute for the mean\n",
    "def mean(array):\n",
    "    sum = 0\n",
    "    # summation of values\n",
    "    for values in array:\n",
    "        sum += values\n",
    "    # divide the sum by the length to get the average/mean\n",
    "    return sum / len(array)"
   ]
  },
  {
   "cell_type": "code",
   "execution_count": 857,
   "id": "5fec24ae-b03c-403b-8320-03d488ffd125",
   "metadata": {},
   "outputs": [],
   "source": [
    "# loop through the bins\n",
    "for i in range(len(bins)):\n",
    "    # get the mean for each bin\n",
    "    result = mean(bins[i])\n",
    "    # fill the bin with means\n",
    "    # by replacing each value with the mean\n",
    "    bins[i].fill(result)"
   ]
  },
  {
   "cell_type": "code",
   "execution_count": 858,
   "id": "3b12b5f2-826d-4002-b482-e621c89dd2a8",
   "metadata": {},
   "outputs": [
    {
     "data": {
      "text/plain": [
       "[array([15, 15, 15, 15, 15]),\n",
       " array([22, 22, 22, 22, 22]),\n",
       " array([28, 28, 28, 28, 28]),\n",
       " array([35, 35, 35, 35, 35]),\n",
       " array([43, 43, 43, 43, 43])]"
      ]
     },
     "execution_count": 858,
     "metadata": {},
     "output_type": "execute_result"
    }
   ],
   "source": [
    "bins"
   ]
  },
  {
   "cell_type": "markdown",
   "id": "fa8e52af-85cb-464c-9473-fcb7e6e2f44a",
   "metadata": {},
   "source": [
    "### To get the boundary, replace each value by min/max depending on which value the current value is closest to."
   ]
  },
  {
   "cell_type": "code",
   "execution_count": 860,
   "id": "db400403-1b16-48d2-8efd-92e6ade5fa4c",
   "metadata": {},
   "outputs": [],
   "source": [
    "def bin_boundary(array):\n",
    "    # get minimum\n",
    "    minimum_value = min(array)\n",
    "    # get maximum\n",
    "    maximum_value = max(array)\n",
    "    \n",
    "    replaced_array = []\n",
    "    for i in range(len(array)):\n",
    "        # compute for distance\n",
    "        distance_to_min = abs(array[i] - minimum_value)\n",
    "        distance_to_max = abs(array[i] - maximum_value)\n",
    "        # replace value by whichever it is closest to\n",
    "        replaced_array.append(minimum_value if distance_to_min <= distance_to_max else maximum_value)\n",
    "\n",
    "    return replaced_array"
   ]
  },
  {
   "cell_type": "code",
   "execution_count": 861,
   "id": "4ec43e78-414c-4da2-ac37-b11687bf9d62",
   "metadata": {},
   "outputs": [],
   "source": [
    "# loop through the bins\n",
    "for i in range(len(bins)):\n",
    "    replaced_array = bin_boundary(bins[i])\n",
    "    bins[i] = replaced_array"
   ]
  },
  {
   "cell_type": "code",
   "execution_count": 862,
   "id": "2d12ca11-8aac-4c81-9736-d17b5a71f9a3",
   "metadata": {},
   "outputs": [
    {
     "data": {
      "text/plain": [
       "[[13, 13, 13, 13, 19],\n",
       " [20, 20, 20, 25, 25],\n",
       " [25, 25, 33, 33, 33],\n",
       " [35, 35, 35, 35, 35],\n",
       " [36, 36, 52, 52, 52]]"
      ]
     },
     "execution_count": 862,
     "metadata": {},
     "output_type": "execute_result"
    }
   ],
   "source": [
    "bins"
   ]
  },
  {
   "cell_type": "markdown",
   "id": "8c322a21-d5ed-4c4a-a3d6-f51dda4838d5",
   "metadata": {},
   "source": [
    "# Seatwork Problem 2"
   ]
  },
  {
   "cell_type": "markdown",
   "id": "a5c966ef-37cc-4220-aa26-726fa3d53a7b",
   "metadata": {},
   "source": [
    "Suppose a group of 12 sales price records has been sorted as follows:\n",
    "\n",
    "**Sales = [5, 10, 11, 13, 15, 35, 50, 55, 72, 92, 204, 215]**\n",
    "\n",
    "```\n",
    "Partition them into three bins and smooth the data into the following:\n",
    "    - Smoothing by Equal Frequency Bins\n",
    "    - Smoothing by bin means\n",
    "    - Smoothing by bin boundary\n",
    "```"
   ]
  },
  {
   "cell_type": "markdown",
   "id": "092de5eb-2b63-4220-8907-02bd3144eb8e",
   "metadata": {},
   "source": [
    "First, sort the records and partition into (3)."
   ]
  },
  {
   "cell_type": "code",
   "execution_count": 863,
   "id": "f8fcbb49-9565-45b9-a6c2-057defa27984",
   "metadata": {},
   "outputs": [],
   "source": [
    "Sales = np.array([5, 10, 11, 13, 15, 35, 50, 55, 72, 92, 204, 215])\n",
    "Sales.sort()\n",
    "bins = np.split(Sales, 3)"
   ]
  },
  {
   "cell_type": "markdown",
   "id": "3fb04b9a-5b37-47f9-a6e0-bf96ff1cec6d",
   "metadata": {},
   "source": [
    "### Equal Frequency Smoothing"
   ]
  },
  {
   "cell_type": "code",
   "execution_count": 864,
   "id": "1e55289d-2171-48dd-adba-6fc074b274cb",
   "metadata": {},
   "outputs": [
    {
     "data": {
      "text/plain": [
       "[array([ 5, 10, 11, 13]), array([15, 35, 50, 55]), array([ 72,  92, 204, 215])]"
      ]
     },
     "execution_count": 864,
     "metadata": {},
     "output_type": "execute_result"
    }
   ],
   "source": [
    "bins"
   ]
  },
  {
   "cell_type": "markdown",
   "id": "6225fb67-e13e-43a8-8eac-b63770090017",
   "metadata": {},
   "source": [
    "Now, to smooth the data by bin means, I can repeat what I did for the previous problem."
   ]
  },
  {
   "cell_type": "code",
   "execution_count": 865,
   "id": "b3d86fba-22b6-452f-b4a2-23dfb88a9106",
   "metadata": {},
   "outputs": [],
   "source": [
    "# loop through the bins\n",
    "for i in range(len(bins)):\n",
    "    # get the mean for each bin\n",
    "    result = mean(bins[i])\n",
    "    # fill the bin with means\n",
    "    # by replacing each value with the mean\n",
    "    bins[i].fill(result)"
   ]
  },
  {
   "cell_type": "markdown",
   "id": "bac9f7db-b310-47cd-9cfc-487d9dc277e3",
   "metadata": {},
   "source": [
    "### Bin Means Smoothing"
   ]
  },
  {
   "cell_type": "code",
   "execution_count": 866,
   "id": "6d19483b-1fd4-4196-b2e2-b6a3d1f8e58e",
   "metadata": {},
   "outputs": [
    {
     "data": {
      "text/plain": [
       "[array([9, 9, 9, 9]), array([38, 38, 38, 38]), array([145, 145, 145, 145])]"
      ]
     },
     "execution_count": 866,
     "metadata": {},
     "output_type": "execute_result"
    }
   ],
   "source": [
    "bins"
   ]
  },
  {
   "cell_type": "markdown",
   "id": "fb2926b4-48a3-4801-a313-51b172c4b22f",
   "metadata": {},
   "source": [
    "Finally, with bin boundaries I'll be calling the same function."
   ]
  },
  {
   "cell_type": "code",
   "execution_count": 646,
   "id": "60d68912-da2c-48a3-ac41-9c7fd42567d2",
   "metadata": {},
   "outputs": [],
   "source": [
    "# loop through the bins\n",
    "for i in range(len(bins)):\n",
    "    replaced_array = bin_boundary(bins[i])\n",
    "    bins[i] = replaced_array"
   ]
  },
  {
   "cell_type": "markdown",
   "id": "357a8a69-2df3-4b26-a3fc-757077f12500",
   "metadata": {},
   "source": [
    "### Bin Boundary Smoothing"
   ]
  },
  {
   "cell_type": "code",
   "execution_count": 647,
   "id": "b66baa26-b64c-498a-994e-4ba11937fd10",
   "metadata": {},
   "outputs": [
    {
     "data": {
      "text/plain": [
       "[[5, 13, 13, 13], [15, 15, 55, 55], [72, 72, 215, 215]]"
      ]
     },
     "execution_count": 647,
     "metadata": {},
     "output_type": "execute_result"
    }
   ],
   "source": [
    "bins"
   ]
  },
  {
   "cell_type": "markdown",
   "id": "aef3dfe5-1e67-4212-9bc5-1f2450adc8d1",
   "metadata": {},
   "source": [
    "# Seatwork Problem 3"
   ]
  },
  {
   "cell_type": "markdown",
   "id": "24465bbd-82c2-4d20-9b36-65fde56c5d62",
   "metadata": {},
   "source": [
    "Use the methods below to normalize the following group of data: **[50, 100, 150, 200, 250]**\n",
    "\n",
    "```\n",
    "(a) min-max normalization \n",
    "(b) z-score normalization\n",
    "(c) z-score normalization using the mean absolute deviation instead of\n",
    "standard deviation\n",
    "```"
   ]
  },
  {
   "cell_type": "code",
   "execution_count": 735,
   "id": "f4670418-8dae-47f1-8259-ce8350acc822",
   "metadata": {},
   "outputs": [],
   "source": [
    "data = np.array([50, 100, 150, 200, 250])"
   ]
  },
  {
   "cell_type": "markdown",
   "id": "e3920880-b3bf-4f8a-9f64-ce1700c1a521",
   "metadata": {},
   "source": [
    "### Min-Max Normalization"
   ]
  },
  {
   "cell_type": "markdown",
   "id": "7e6e0abc-d0f0-4c50-928b-bad25f8db6b8",
   "metadata": {},
   "source": [
    "For the ***min-max normalization***, the formula goes:\n",
    "\n",
    "```\n",
    "(value - min) / (max - min)\n",
    "```\n",
    "\n",
    "I implemented it with *Python* like the code below:"
   ]
  },
  {
   "cell_type": "code",
   "execution_count": 736,
   "id": "81d9b7e2-f08a-4759-8793-906203bdb08f",
   "metadata": {},
   "outputs": [],
   "source": [
    "def min_max_normalization(array):\n",
    "    # get minimum\n",
    "    minimum_value = min(array)\n",
    "    # get maximum\n",
    "    maximum_value = max(array)\n",
    "    # get the  (max - min)\n",
    "    array_range = maximum_value - minimum_value\n",
    "    \n",
    "    replaced_array = []\n",
    "    for i in range(len(array)):\n",
    "        # (value - min)\n",
    "        current = array[i] - minimum_value\n",
    "        # (value - min) / (max - min)\n",
    "        normalized_value = current / array_range\n",
    "        replaced_array.append(normalized_value)\n",
    "    \n",
    "    return replaced_array"
   ]
  },
  {
   "cell_type": "code",
   "execution_count": 737,
   "id": "328bbe08-c130-4186-b689-a584489a4877",
   "metadata": {},
   "outputs": [],
   "source": [
    "normalized_data = np.column_stack([np.array(data), np.array(min_max_normalization(data))])"
   ]
  },
  {
   "cell_type": "code",
   "execution_count": 738,
   "id": "1355b87e-4bc0-4e66-923b-c6795d3fe3e0",
   "metadata": {},
   "outputs": [
    {
     "data": {
      "text/html": [
       "<div>\n",
       "<style scoped>\n",
       "    .dataframe tbody tr th:only-of-type {\n",
       "        vertical-align: middle;\n",
       "    }\n",
       "\n",
       "    .dataframe tbody tr th {\n",
       "        vertical-align: top;\n",
       "    }\n",
       "\n",
       "    .dataframe thead th {\n",
       "        text-align: right;\n",
       "    }\n",
       "</style>\n",
       "<table border=\"1\" class=\"dataframe\">\n",
       "  <thead>\n",
       "    <tr style=\"text-align: right;\">\n",
       "      <th></th>\n",
       "      <th>Data</th>\n",
       "      <th>Normalized Data</th>\n",
       "    </tr>\n",
       "  </thead>\n",
       "  <tbody>\n",
       "    <tr>\n",
       "      <th>0</th>\n",
       "      <td>50.0</td>\n",
       "      <td>0.00</td>\n",
       "    </tr>\n",
       "    <tr>\n",
       "      <th>1</th>\n",
       "      <td>100.0</td>\n",
       "      <td>0.25</td>\n",
       "    </tr>\n",
       "    <tr>\n",
       "      <th>2</th>\n",
       "      <td>150.0</td>\n",
       "      <td>0.50</td>\n",
       "    </tr>\n",
       "    <tr>\n",
       "      <th>3</th>\n",
       "      <td>200.0</td>\n",
       "      <td>0.75</td>\n",
       "    </tr>\n",
       "    <tr>\n",
       "      <th>4</th>\n",
       "      <td>250.0</td>\n",
       "      <td>1.00</td>\n",
       "    </tr>\n",
       "  </tbody>\n",
       "</table>\n",
       "</div>"
      ],
      "text/plain": [
       "    Data  Normalized Data\n",
       "0   50.0             0.00\n",
       "1  100.0             0.25\n",
       "2  150.0             0.50\n",
       "3  200.0             0.75\n",
       "4  250.0             1.00"
      ]
     },
     "execution_count": 738,
     "metadata": {},
     "output_type": "execute_result"
    }
   ],
   "source": [
    "pd.DataFrame(normalized_data, columns=['Data', 'Normalized Data'])"
   ]
  },
  {
   "cell_type": "markdown",
   "id": "407d676c-b121-4265-af57-e5300617f6c5",
   "metadata": {},
   "source": [
    "That is the normalized data after applying ***min-max normalization***."
   ]
  },
  {
   "cell_type": "markdown",
   "id": "a5cbb2fd-5bc8-4f13-934d-3ec1b938410c",
   "metadata": {},
   "source": [
    "### Z-score Scaling"
   ]
  },
  {
   "cell_type": "markdown",
   "id": "afb585ce-effb-4d45-96d8-dfd2a8f5acd8",
   "metadata": {},
   "source": [
    "For the ***Z-score Scaling***, the formula goes:\n",
    "\n",
    "```\n",
    "(x - mean) / standard_deviation\n",
    "```"
   ]
  },
  {
   "cell_type": "markdown",
   "id": "2533f7b1-cdc2-4e62-ae8b-e83d0cda20a1",
   "metadata": {},
   "source": [
    "To calculate this, I first need to compute for the standard_deviation of the data."
   ]
  },
  {
   "cell_type": "code",
   "execution_count": 739,
   "id": "5b02b85c-2668-4902-9617-4493d7b40e58",
   "metadata": {},
   "outputs": [],
   "source": [
    "# get mean first\n",
    "mean_value = mean(data)"
   ]
  },
  {
   "cell_type": "code",
   "execution_count": 740,
   "id": "db008156-b05a-4a34-85ce-c7e945eea8d9",
   "metadata": {},
   "outputs": [],
   "source": [
    "# take in an array of values\n",
    "def standard_deviation(array):\n",
    "    # subtract each value by the mean \n",
    "    squared_values = (array - mean_value) ** 2\n",
    "    # get the sum of the squared_values and return after dividing by the length of the array and getting the square root\n",
    "    return np.sqrt(squared_values.sum() / len(array))"
   ]
  },
  {
   "cell_type": "code",
   "execution_count": 741,
   "id": "6228f7a2-1b98-45e3-91f0-a474ac7304fe",
   "metadata": {},
   "outputs": [
    {
     "data": {
      "text/plain": [
       "70.71"
      ]
     },
     "execution_count": 741,
     "metadata": {},
     "output_type": "execute_result"
    }
   ],
   "source": [
    "standard_deviation(data).round(2)"
   ]
  },
  {
   "cell_type": "markdown",
   "id": "e861441e-ae9a-4f6d-9224-d49006fc1ba3",
   "metadata": {},
   "source": [
    "Now, that I've acquired the standard deviation, I can proceed with the scaling part"
   ]
  },
  {
   "cell_type": "code",
   "execution_count": 742,
   "id": "9b66b5da-75c8-4e65-b7b0-7d00341610f9",
   "metadata": {},
   "outputs": [],
   "source": [
    "def scale_by_zscore(array):\n",
    "    scaled_array = []\n",
    "    std = standard_deviation(data)\n",
    "    for i in range(len(array)):\n",
    "        # (x - mean)\n",
    "        current_value = array[i] - mean_value\n",
    "        # (x - mean) / standard_deviation\n",
    "        scaled_value = current_value / std\n",
    "        scaled_array.append(scaled_value)\n",
    "\n",
    "    return scaled_array"
   ]
  },
  {
   "cell_type": "code",
   "execution_count": 745,
   "id": "6ffff140-aee1-4186-86d6-6e17692146ef",
   "metadata": {},
   "outputs": [],
   "source": [
    "normalized_data = np.column_stack([np.array(data), np.array(scale_by_zscore(data)).round(2)])"
   ]
  },
  {
   "cell_type": "code",
   "execution_count": 746,
   "id": "b34ff726-92fd-4f52-872d-7efd66b8555f",
   "metadata": {},
   "outputs": [
    {
     "data": {
      "text/html": [
       "<div>\n",
       "<style scoped>\n",
       "    .dataframe tbody tr th:only-of-type {\n",
       "        vertical-align: middle;\n",
       "    }\n",
       "\n",
       "    .dataframe tbody tr th {\n",
       "        vertical-align: top;\n",
       "    }\n",
       "\n",
       "    .dataframe thead th {\n",
       "        text-align: right;\n",
       "    }\n",
       "</style>\n",
       "<table border=\"1\" class=\"dataframe\">\n",
       "  <thead>\n",
       "    <tr style=\"text-align: right;\">\n",
       "      <th></th>\n",
       "      <th>Data</th>\n",
       "      <th>Normalized Data</th>\n",
       "    </tr>\n",
       "  </thead>\n",
       "  <tbody>\n",
       "    <tr>\n",
       "      <th>0</th>\n",
       "      <td>50.0</td>\n",
       "      <td>-1.41</td>\n",
       "    </tr>\n",
       "    <tr>\n",
       "      <th>1</th>\n",
       "      <td>100.0</td>\n",
       "      <td>-0.71</td>\n",
       "    </tr>\n",
       "    <tr>\n",
       "      <th>2</th>\n",
       "      <td>150.0</td>\n",
       "      <td>0.00</td>\n",
       "    </tr>\n",
       "    <tr>\n",
       "      <th>3</th>\n",
       "      <td>200.0</td>\n",
       "      <td>0.71</td>\n",
       "    </tr>\n",
       "    <tr>\n",
       "      <th>4</th>\n",
       "      <td>250.0</td>\n",
       "      <td>1.41</td>\n",
       "    </tr>\n",
       "  </tbody>\n",
       "</table>\n",
       "</div>"
      ],
      "text/plain": [
       "    Data  Normalized Data\n",
       "0   50.0            -1.41\n",
       "1  100.0            -0.71\n",
       "2  150.0             0.00\n",
       "3  200.0             0.71\n",
       "4  250.0             1.41"
      ]
     },
     "execution_count": 746,
     "metadata": {},
     "output_type": "execute_result"
    }
   ],
   "source": [
    "pd.DataFrame(np.array(normalized_data).round(3), columns=['Data', 'Normalized Data']) "
   ]
  },
  {
   "cell_type": "markdown",
   "id": "fbd7e8e2-4303-44ff-9fcc-4243d71bd5b6",
   "metadata": {},
   "source": [
    "That is the normalized data after applying ***Z-score scaling***."
   ]
  },
  {
   "cell_type": "markdown",
   "id": "0bec73eb-3aef-4fcc-bbb1-a504ef45baa3",
   "metadata": {},
   "source": [
    "### Z-score normalization with Mean Absolute Deviation"
   ]
  },
  {
   "cell_type": "markdown",
   "id": "673710d0-c934-45a3-9d5a-008ae2d4290a",
   "metadata": {},
   "source": [
    "For the ***Z-score normalization using Mean Absolute Deviation***, the formula goes:\n",
    "\n",
    "```\n",
    "(x - mean) / Mean Absolute Deviation\n",
    "```"
   ]
  },
  {
   "cell_type": "markdown",
   "id": "622e840a-81bc-4e2b-8602-ae40dca77256",
   "metadata": {},
   "source": [
    "First, I'll have to compute for the mean absolute deviation"
   ]
  },
  {
   "cell_type": "code",
   "execution_count": 747,
   "id": "05806b8f-ff57-4da3-a396-7af16765d154",
   "metadata": {},
   "outputs": [],
   "source": [
    "def mean_absolute_deviation(array):\n",
    "    np_array = np.array(array)\n",
    "    return (abs(np_array - mean_value)).sum() / len(array)"
   ]
  },
  {
   "cell_type": "code",
   "execution_count": 748,
   "id": "c7f35074-197b-416b-908c-12bef1b5c552",
   "metadata": {},
   "outputs": [
    {
     "data": {
      "text/plain": [
       "60.0"
      ]
     },
     "execution_count": 748,
     "metadata": {},
     "output_type": "execute_result"
    }
   ],
   "source": [
    "mean_absolute_deviation(data).round(2)"
   ]
  },
  {
   "cell_type": "markdown",
   "id": "3ac73f0d-803f-4a6e-a147-d79af48f45f5",
   "metadata": {},
   "source": [
    "Now, I am able to perform the calculations for ***Z-score normalization*** with **MAD**."
   ]
  },
  {
   "cell_type": "code",
   "execution_count": 749,
   "id": "d3a170ad-fcac-4e2d-88d4-08822fc716dd",
   "metadata": {},
   "outputs": [],
   "source": [
    "def zscore_with_mad(array):\n",
    "    scaled_array = []\n",
    "    MAD = mean_absolute_deviation(data)\n",
    "    for i in range(len(array)):\n",
    "        # (x - mean)\n",
    "        current_value = array[i] - mean_value\n",
    "        # (x - mean) / MAD\n",
    "        scaled_value = current_value / MAD\n",
    "        scaled_array.append(scaled_value)\n",
    "\n",
    "    return scaled_array"
   ]
  },
  {
   "cell_type": "code",
   "execution_count": 750,
   "id": "39beebdd-4ddc-43bd-86bd-271b010c34ca",
   "metadata": {},
   "outputs": [],
   "source": [
    "normalized_data = np.column_stack([np.array(data), np.array(zscore_with_mad(data)).round(2)])"
   ]
  },
  {
   "cell_type": "code",
   "execution_count": 751,
   "id": "eead1d7b-2b61-4cd0-bfaf-9e67a0d09d9e",
   "metadata": {},
   "outputs": [
    {
     "data": {
      "text/html": [
       "<div>\n",
       "<style scoped>\n",
       "    .dataframe tbody tr th:only-of-type {\n",
       "        vertical-align: middle;\n",
       "    }\n",
       "\n",
       "    .dataframe tbody tr th {\n",
       "        vertical-align: top;\n",
       "    }\n",
       "\n",
       "    .dataframe thead th {\n",
       "        text-align: right;\n",
       "    }\n",
       "</style>\n",
       "<table border=\"1\" class=\"dataframe\">\n",
       "  <thead>\n",
       "    <tr style=\"text-align: right;\">\n",
       "      <th></th>\n",
       "      <th>Data</th>\n",
       "      <th>Normalized Data</th>\n",
       "    </tr>\n",
       "  </thead>\n",
       "  <tbody>\n",
       "    <tr>\n",
       "      <th>0</th>\n",
       "      <td>50.0</td>\n",
       "      <td>-1.67</td>\n",
       "    </tr>\n",
       "    <tr>\n",
       "      <th>1</th>\n",
       "      <td>100.0</td>\n",
       "      <td>-0.83</td>\n",
       "    </tr>\n",
       "    <tr>\n",
       "      <th>2</th>\n",
       "      <td>150.0</td>\n",
       "      <td>0.00</td>\n",
       "    </tr>\n",
       "    <tr>\n",
       "      <th>3</th>\n",
       "      <td>200.0</td>\n",
       "      <td>0.83</td>\n",
       "    </tr>\n",
       "    <tr>\n",
       "      <th>4</th>\n",
       "      <td>250.0</td>\n",
       "      <td>1.67</td>\n",
       "    </tr>\n",
       "  </tbody>\n",
       "</table>\n",
       "</div>"
      ],
      "text/plain": [
       "    Data  Normalized Data\n",
       "0   50.0            -1.67\n",
       "1  100.0            -0.83\n",
       "2  150.0             0.00\n",
       "3  200.0             0.83\n",
       "4  250.0             1.67"
      ]
     },
     "execution_count": 751,
     "metadata": {},
     "output_type": "execute_result"
    }
   ],
   "source": [
    "pd.DataFrame(normalized_data, columns=['Data', 'Normalized Data'])"
   ]
  },
  {
   "cell_type": "markdown",
   "id": "8a83bbfb-38af-4609-af95-eea49a39f13c",
   "metadata": {},
   "source": [
    "That is the normalized data after applying ***Z-score normalization using mean standard deviation***."
   ]
  },
  {
   "cell_type": "markdown",
   "id": "bb3873a9-f02c-45c7-96cd-d332238fd9fd",
   "metadata": {},
   "source": [
    "# Seatwork Problem 4"
   ]
  },
  {
   "cell_type": "markdown",
   "id": "5910075e-b331-40b1-be0b-3cedf4f7e50f",
   "metadata": {},
   "source": [
    "Use the methods below to normalize the following group of data: **[500, 600, 700, 900, 1000]**\n",
    "\n",
    "```\n",
    "(a) min-max normalization \n",
    "(b) z-score normalization\n",
    "(c) z-score normalization using the mean absolute deviation instead of\n",
    "standard deviation\n",
    "```"
   ]
  },
  {
   "cell_type": "markdown",
   "id": "bfc478a0-e295-4e37-ad72-7db1e44f2957",
   "metadata": {},
   "source": [
    "I can just use the functions I created for *Problem 3*."
   ]
  },
  {
   "cell_type": "code",
   "execution_count": 758,
   "id": "51b9614f-f3e8-4499-ac85-2db5e7b581f8",
   "metadata": {},
   "outputs": [],
   "source": [
    "data = np.array([500, 600, 700, 900, 1000])"
   ]
  },
  {
   "cell_type": "code",
   "execution_count": 768,
   "id": "8f7720e4-3512-43eb-b19c-8826db221820",
   "metadata": {},
   "outputs": [],
   "source": [
    "# overwrite previous mean_value with current data\n",
    "mean_value = mean(data)"
   ]
  },
  {
   "cell_type": "markdown",
   "id": "83678984-2f13-4560-8f6c-f3a8ababb1fb",
   "metadata": {},
   "source": [
    "### Min-Max normalization"
   ]
  },
  {
   "cell_type": "code",
   "execution_count": 769,
   "id": "eba78a48-a816-4a9a-8cfc-94c2a59ca044",
   "metadata": {},
   "outputs": [],
   "source": [
    "normalized_data = np.column_stack([np.array(data), np.array(min_max_normalization(data))])"
   ]
  },
  {
   "cell_type": "code",
   "execution_count": 770,
   "id": "e84156d2-7621-4a45-8d25-90e58d9a0291",
   "metadata": {},
   "outputs": [
    {
     "data": {
      "text/html": [
       "<div>\n",
       "<style scoped>\n",
       "    .dataframe tbody tr th:only-of-type {\n",
       "        vertical-align: middle;\n",
       "    }\n",
       "\n",
       "    .dataframe tbody tr th {\n",
       "        vertical-align: top;\n",
       "    }\n",
       "\n",
       "    .dataframe thead th {\n",
       "        text-align: right;\n",
       "    }\n",
       "</style>\n",
       "<table border=\"1\" class=\"dataframe\">\n",
       "  <thead>\n",
       "    <tr style=\"text-align: right;\">\n",
       "      <th></th>\n",
       "      <th>Data</th>\n",
       "      <th>Normalized Data</th>\n",
       "    </tr>\n",
       "  </thead>\n",
       "  <tbody>\n",
       "    <tr>\n",
       "      <th>0</th>\n",
       "      <td>500.0</td>\n",
       "      <td>0.0</td>\n",
       "    </tr>\n",
       "    <tr>\n",
       "      <th>1</th>\n",
       "      <td>600.0</td>\n",
       "      <td>0.2</td>\n",
       "    </tr>\n",
       "    <tr>\n",
       "      <th>2</th>\n",
       "      <td>700.0</td>\n",
       "      <td>0.4</td>\n",
       "    </tr>\n",
       "    <tr>\n",
       "      <th>3</th>\n",
       "      <td>900.0</td>\n",
       "      <td>0.8</td>\n",
       "    </tr>\n",
       "    <tr>\n",
       "      <th>4</th>\n",
       "      <td>1000.0</td>\n",
       "      <td>1.0</td>\n",
       "    </tr>\n",
       "  </tbody>\n",
       "</table>\n",
       "</div>"
      ],
      "text/plain": [
       "     Data  Normalized Data\n",
       "0   500.0              0.0\n",
       "1   600.0              0.2\n",
       "2   700.0              0.4\n",
       "3   900.0              0.8\n",
       "4  1000.0              1.0"
      ]
     },
     "execution_count": 770,
     "metadata": {},
     "output_type": "execute_result"
    }
   ],
   "source": [
    "pd.DataFrame(normalized_data, columns=['Data', 'Normalized Data'])"
   ]
  },
  {
   "cell_type": "markdown",
   "id": "4da15b63-1b8e-4199-9ad1-da5b46320373",
   "metadata": {},
   "source": [
    "### Z-score Scaling"
   ]
  },
  {
   "cell_type": "code",
   "execution_count": 771,
   "id": "13861642-33ac-40f2-aa5c-b230c4678068",
   "metadata": {},
   "outputs": [],
   "source": [
    "normalized_data = np.column_stack([np.array(data), np.array(scale_by_zscore(data)).round(2)])"
   ]
  },
  {
   "cell_type": "code",
   "execution_count": 772,
   "id": "706db0ce-e82a-4183-b7e3-a25050160463",
   "metadata": {},
   "outputs": [
    {
     "data": {
      "text/html": [
       "<div>\n",
       "<style scoped>\n",
       "    .dataframe tbody tr th:only-of-type {\n",
       "        vertical-align: middle;\n",
       "    }\n",
       "\n",
       "    .dataframe tbody tr th {\n",
       "        vertical-align: top;\n",
       "    }\n",
       "\n",
       "    .dataframe thead th {\n",
       "        text-align: right;\n",
       "    }\n",
       "</style>\n",
       "<table border=\"1\" class=\"dataframe\">\n",
       "  <thead>\n",
       "    <tr style=\"text-align: right;\">\n",
       "      <th></th>\n",
       "      <th>Data</th>\n",
       "      <th>Normalized Data</th>\n",
       "    </tr>\n",
       "  </thead>\n",
       "  <tbody>\n",
       "    <tr>\n",
       "      <th>0</th>\n",
       "      <td>500.0</td>\n",
       "      <td>-1.29</td>\n",
       "    </tr>\n",
       "    <tr>\n",
       "      <th>1</th>\n",
       "      <td>600.0</td>\n",
       "      <td>-0.75</td>\n",
       "    </tr>\n",
       "    <tr>\n",
       "      <th>2</th>\n",
       "      <td>700.0</td>\n",
       "      <td>-0.22</td>\n",
       "    </tr>\n",
       "    <tr>\n",
       "      <th>3</th>\n",
       "      <td>900.0</td>\n",
       "      <td>0.86</td>\n",
       "    </tr>\n",
       "    <tr>\n",
       "      <th>4</th>\n",
       "      <td>1000.0</td>\n",
       "      <td>1.40</td>\n",
       "    </tr>\n",
       "  </tbody>\n",
       "</table>\n",
       "</div>"
      ],
      "text/plain": [
       "     Data  Normalized Data\n",
       "0   500.0            -1.29\n",
       "1   600.0            -0.75\n",
       "2   700.0            -0.22\n",
       "3   900.0             0.86\n",
       "4  1000.0             1.40"
      ]
     },
     "execution_count": 772,
     "metadata": {},
     "output_type": "execute_result"
    }
   ],
   "source": [
    "pd.DataFrame(normalized_data, columns=['Data', 'Normalized Data'])"
   ]
  },
  {
   "cell_type": "markdown",
   "id": "5b2e9ca0-949f-45f5-b129-f34ae715037b",
   "metadata": {},
   "source": [
    "### Z-score normalization using MAD"
   ]
  },
  {
   "cell_type": "code",
   "execution_count": 774,
   "id": "dca11c57-974e-4a56-bf9d-24084ab3b1fc",
   "metadata": {},
   "outputs": [],
   "source": [
    "normalized_data = np.column_stack([np.array(data), np.array(zscore_with_mad(data)).round(2)])"
   ]
  },
  {
   "cell_type": "code",
   "execution_count": 775,
   "id": "4700c8cb-2c89-4120-bf20-8df081333b71",
   "metadata": {},
   "outputs": [
    {
     "data": {
      "text/html": [
       "<div>\n",
       "<style scoped>\n",
       "    .dataframe tbody tr th:only-of-type {\n",
       "        vertical-align: middle;\n",
       "    }\n",
       "\n",
       "    .dataframe tbody tr th {\n",
       "        vertical-align: top;\n",
       "    }\n",
       "\n",
       "    .dataframe thead th {\n",
       "        text-align: right;\n",
       "    }\n",
       "</style>\n",
       "<table border=\"1\" class=\"dataframe\">\n",
       "  <thead>\n",
       "    <tr style=\"text-align: right;\">\n",
       "      <th></th>\n",
       "      <th>Data</th>\n",
       "      <th>Normalized Data</th>\n",
       "    </tr>\n",
       "  </thead>\n",
       "  <tbody>\n",
       "    <tr>\n",
       "      <th>0</th>\n",
       "      <td>500.0</td>\n",
       "      <td>-1.43</td>\n",
       "    </tr>\n",
       "    <tr>\n",
       "      <th>1</th>\n",
       "      <td>600.0</td>\n",
       "      <td>-0.83</td>\n",
       "    </tr>\n",
       "    <tr>\n",
       "      <th>2</th>\n",
       "      <td>700.0</td>\n",
       "      <td>-0.24</td>\n",
       "    </tr>\n",
       "    <tr>\n",
       "      <th>3</th>\n",
       "      <td>900.0</td>\n",
       "      <td>0.95</td>\n",
       "    </tr>\n",
       "    <tr>\n",
       "      <th>4</th>\n",
       "      <td>1000.0</td>\n",
       "      <td>1.55</td>\n",
       "    </tr>\n",
       "  </tbody>\n",
       "</table>\n",
       "</div>"
      ],
      "text/plain": [
       "     Data  Normalized Data\n",
       "0   500.0            -1.43\n",
       "1   600.0            -0.83\n",
       "2   700.0            -0.24\n",
       "3   900.0             0.95\n",
       "4  1000.0             1.55"
      ]
     },
     "execution_count": 775,
     "metadata": {},
     "output_type": "execute_result"
    }
   ],
   "source": [
    "pd.DataFrame(normalized_data, columns=['Data', 'Normalized Data'])"
   ]
  },
  {
   "cell_type": "markdown",
   "id": "0e57e08e-883c-4bb6-a291-820c8670fb57",
   "metadata": {},
   "source": [
    "# Seatwork Problem 5"
   ]
  },
  {
   "cell_type": "markdown",
   "id": "cdec1309-f175-4541-98b9-924146da0d15",
   "metadata": {},
   "source": [
    "Using the data for age given in Problem 1, answer the following:\n",
    "\n",
    "```\n",
    "(a) Use min-max normalization to transform the value 35 for age onto\n",
    "the range [0.0, 1.0]. \n",
    "(b) Use z-score normalization to transform the value 35 for age, where\n",
    "the standard deviation of age is 12.94 years.\n",
    "```\n"
   ]
  },
  {
   "cell_type": "markdown",
   "id": "63fee187-2b36-4855-8cdf-772add0b1eb7",
   "metadata": {},
   "source": [
    "To do problem (a), simply apply the ***min_max_normalization()*** function to the *age_group* array."
   ]
  },
  {
   "cell_type": "code",
   "execution_count": 778,
   "id": "4021a194-6608-4bea-920c-f03164fdb4aa",
   "metadata": {},
   "outputs": [],
   "source": [
    "normalized_data = np.column_stack([np.array(age_group), np.array(min_max_normalization(age_group)).round(2)])"
   ]
  },
  {
   "cell_type": "code",
   "execution_count": 779,
   "id": "ba2c614d-9d7d-4763-be5f-7a85d288a795",
   "metadata": {},
   "outputs": [
    {
     "data": {
      "text/html": [
       "<div>\n",
       "<style scoped>\n",
       "    .dataframe tbody tr th:only-of-type {\n",
       "        vertical-align: middle;\n",
       "    }\n",
       "\n",
       "    .dataframe tbody tr th {\n",
       "        vertical-align: top;\n",
       "    }\n",
       "\n",
       "    .dataframe thead th {\n",
       "        text-align: right;\n",
       "    }\n",
       "</style>\n",
       "<table border=\"1\" class=\"dataframe\">\n",
       "  <thead>\n",
       "    <tr style=\"text-align: right;\">\n",
       "      <th></th>\n",
       "      <th>Age_Group</th>\n",
       "      <th>Normalized Data</th>\n",
       "    </tr>\n",
       "  </thead>\n",
       "  <tbody>\n",
       "    <tr>\n",
       "      <th>15</th>\n",
       "      <td>35.0</td>\n",
       "      <td>0.56</td>\n",
       "    </tr>\n",
       "  </tbody>\n",
       "</table>\n",
       "</div>"
      ],
      "text/plain": [
       "    Age_Group  Normalized Data\n",
       "15       35.0             0.56"
      ]
     },
     "execution_count": 779,
     "metadata": {},
     "output_type": "execute_result"
    }
   ],
   "source": [
    "df = pd.DataFrame(normalized_data, columns=['Age_Group', 'Normalized Data'])\n",
    "df[df['Age_Group'] == 35].head(1) # show the value 35 transformed to the range [0.0, 1.0]"
   ]
  },
  {
   "cell_type": "markdown",
   "id": "10c27272-ac25-44f3-a3fe-e4e9ffd51e11",
   "metadata": {},
   "source": [
    "To do problem (a), get the *age_group* array's mean first to proceed with the formula for z-score normalization."
   ]
  },
  {
   "cell_type": "code",
   "execution_count": 780,
   "id": "9551559f-acca-4ced-acd8-d008234a8ecc",
   "metadata": {},
   "outputs": [],
   "source": [
    "mean_value = mean(age_group)"
   ]
  },
  {
   "cell_type": "code",
   "execution_count": 781,
   "id": "24188a8b-50ca-40b5-a60c-faffdfec7295",
   "metadata": {},
   "outputs": [],
   "source": [
    "Age = 35\n",
    "std = 12.94"
   ]
  },
  {
   "cell_type": "code",
   "execution_count": 782,
   "id": "f232ef55-0f57-4f7d-99df-9909f74e37d2",
   "metadata": {},
   "outputs": [],
   "source": [
    "current_value = Age - mean_value\n",
    "normalized_data = current_value / std"
   ]
  },
  {
   "cell_type": "markdown",
   "id": "0e0f7cdc-7613-4561-b340-aba69e117470",
   "metadata": {},
   "source": [
    "### The normalized value of 35 with a standard deviation of 12.94 is:"
   ]
  },
  {
   "cell_type": "code",
   "execution_count": 783,
   "id": "98007a30-d021-4246-9445-d243a5d94ee1",
   "metadata": {},
   "outputs": [
    {
     "data": {
      "text/plain": [
       "0.46"
      ]
     },
     "execution_count": 783,
     "metadata": {},
     "output_type": "execute_result"
    }
   ],
   "source": [
    "normalized_data.round(2)"
   ]
  },
  {
   "cell_type": "markdown",
   "id": "f848b6ac-081c-4875-8687-81add9268469",
   "metadata": {},
   "source": [
    "# Seatwork Problem 6"
   ]
  },
  {
   "cell_type": "markdown",
   "id": "cdde0397-c0f1-4d01-87cf-347b224644aa",
   "metadata": {},
   "source": [
    "Using Linear Regression by Least Square, obtain the following from the given sample data:\n",
    "\n",
    "```\n",
    "X_age = [25, 30, 40, 35, 22, 28, 45, 33, 27, 38]\n",
    "Y_weight = [55, 70, 75, 80, 60, 50, 85, 68, 72, 77]\n",
    "```\n",
    "\n",
    "1. Use the method of Least Squares to find the equation for the predicting weight given the age.\n",
    "2. Predict the weight of a person of age 36."
   ]
  },
  {
   "cell_type": "markdown",
   "id": "ff648eb1-4518-4ab9-80a2-4a2d1f2e4973",
   "metadata": {},
   "source": [
    "In **Linear Regressing by Least Square**, the equation looks like:\n",
    "\n",
    "```\n",
    "y = a + bx\n",
    "```\n",
    "\n",
    "To find **b**,\n",
    "\n",
    "```\n",
    "E[(x - x_mean) * (y - y_mean)] / E(x - x_mean)^2\n",
    "```"
   ]
  },
  {
   "cell_type": "code",
   "execution_count": 784,
   "id": "eab0d838-5013-4df8-a707-2983ba88f135",
   "metadata": {},
   "outputs": [],
   "source": [
    "X_age = np.array([25, 30, 40, 35, 22, 28, 45, 33, 27, 38])\n",
    "Y_weight = np.array([55, 70, 75, 80, 60, 50, 85, 68, 72, 77])"
   ]
  },
  {
   "cell_type": "code",
   "execution_count": 785,
   "id": "c38eb496-a27d-4153-8237-58492cdeb66e",
   "metadata": {},
   "outputs": [],
   "source": [
    "# get mean for the 2 variables (X, y)\n",
    "mean_x_age = mean(X_age)\n",
    "mean_Y_weight = mean(Y_weight)"
   ]
  },
  {
   "cell_type": "code",
   "execution_count": 786,
   "id": "5854eae2-da19-4ef3-bcf0-af8667a424c0",
   "metadata": {},
   "outputs": [
    {
     "data": {
      "text/plain": [
       "(32.3, 69.2)"
      ]
     },
     "execution_count": 786,
     "metadata": {},
     "output_type": "execute_result"
    }
   ],
   "source": [
    "mean_x_age, mean_Y_weight"
   ]
  },
  {
   "cell_type": "markdown",
   "id": "cd9c95d3-465d-4107-8520-700e7d31917b",
   "metadata": {},
   "source": [
    "Now, subtract each value of X and y by the mean value of X and y respectively"
   ]
  },
  {
   "cell_type": "code",
   "execution_count": 787,
   "id": "c6f44303-fc09-458c-8ef9-8e2e22d910cf",
   "metadata": {},
   "outputs": [],
   "source": [
    "X = X_age - mean_x_age\n",
    "y = Y_weight - mean_Y_weight"
   ]
  },
  {
   "cell_type": "code",
   "execution_count": 788,
   "id": "3a72573b-6394-4686-ae5b-d04f174e1ec1",
   "metadata": {},
   "outputs": [
    {
     "data": {
      "text/html": [
       "<div>\n",
       "<style scoped>\n",
       "    .dataframe tbody tr th:only-of-type {\n",
       "        vertical-align: middle;\n",
       "    }\n",
       "\n",
       "    .dataframe tbody tr th {\n",
       "        vertical-align: top;\n",
       "    }\n",
       "\n",
       "    .dataframe thead th {\n",
       "        text-align: right;\n",
       "    }\n",
       "</style>\n",
       "<table border=\"1\" class=\"dataframe\">\n",
       "  <thead>\n",
       "    <tr style=\"text-align: right;\">\n",
       "      <th></th>\n",
       "      <th>X_age</th>\n",
       "      <th>x - x_mean</th>\n",
       "    </tr>\n",
       "  </thead>\n",
       "  <tbody>\n",
       "    <tr>\n",
       "      <th>0</th>\n",
       "      <td>25.0</td>\n",
       "      <td>-7.3</td>\n",
       "    </tr>\n",
       "    <tr>\n",
       "      <th>1</th>\n",
       "      <td>30.0</td>\n",
       "      <td>-2.3</td>\n",
       "    </tr>\n",
       "    <tr>\n",
       "      <th>2</th>\n",
       "      <td>40.0</td>\n",
       "      <td>7.7</td>\n",
       "    </tr>\n",
       "    <tr>\n",
       "      <th>3</th>\n",
       "      <td>35.0</td>\n",
       "      <td>2.7</td>\n",
       "    </tr>\n",
       "    <tr>\n",
       "      <th>4</th>\n",
       "      <td>22.0</td>\n",
       "      <td>-10.3</td>\n",
       "    </tr>\n",
       "    <tr>\n",
       "      <th>5</th>\n",
       "      <td>28.0</td>\n",
       "      <td>-4.3</td>\n",
       "    </tr>\n",
       "    <tr>\n",
       "      <th>6</th>\n",
       "      <td>45.0</td>\n",
       "      <td>12.7</td>\n",
       "    </tr>\n",
       "    <tr>\n",
       "      <th>7</th>\n",
       "      <td>33.0</td>\n",
       "      <td>0.7</td>\n",
       "    </tr>\n",
       "    <tr>\n",
       "      <th>8</th>\n",
       "      <td>27.0</td>\n",
       "      <td>-5.3</td>\n",
       "    </tr>\n",
       "    <tr>\n",
       "      <th>9</th>\n",
       "      <td>38.0</td>\n",
       "      <td>5.7</td>\n",
       "    </tr>\n",
       "  </tbody>\n",
       "</table>\n",
       "</div>"
      ],
      "text/plain": [
       "   X_age  x - x_mean\n",
       "0   25.0        -7.3\n",
       "1   30.0        -2.3\n",
       "2   40.0         7.7\n",
       "3   35.0         2.7\n",
       "4   22.0       -10.3\n",
       "5   28.0        -4.3\n",
       "6   45.0        12.7\n",
       "7   33.0         0.7\n",
       "8   27.0        -5.3\n",
       "9   38.0         5.7"
      ]
     },
     "execution_count": 788,
     "metadata": {},
     "output_type": "execute_result"
    }
   ],
   "source": [
    "pd.DataFrame(np.column_stack([X_age, X]), columns=['X_age', 'x - x_mean'])"
   ]
  },
  {
   "cell_type": "code",
   "execution_count": 789,
   "id": "b1086dcf-d03a-4702-b062-0156402baf08",
   "metadata": {},
   "outputs": [
    {
     "data": {
      "text/html": [
       "<div>\n",
       "<style scoped>\n",
       "    .dataframe tbody tr th:only-of-type {\n",
       "        vertical-align: middle;\n",
       "    }\n",
       "\n",
       "    .dataframe tbody tr th {\n",
       "        vertical-align: top;\n",
       "    }\n",
       "\n",
       "    .dataframe thead th {\n",
       "        text-align: right;\n",
       "    }\n",
       "</style>\n",
       "<table border=\"1\" class=\"dataframe\">\n",
       "  <thead>\n",
       "    <tr style=\"text-align: right;\">\n",
       "      <th></th>\n",
       "      <th>Y_weight</th>\n",
       "      <th>y - y_mean</th>\n",
       "    </tr>\n",
       "  </thead>\n",
       "  <tbody>\n",
       "    <tr>\n",
       "      <th>0</th>\n",
       "      <td>55.0</td>\n",
       "      <td>-14.2</td>\n",
       "    </tr>\n",
       "    <tr>\n",
       "      <th>1</th>\n",
       "      <td>70.0</td>\n",
       "      <td>0.8</td>\n",
       "    </tr>\n",
       "    <tr>\n",
       "      <th>2</th>\n",
       "      <td>75.0</td>\n",
       "      <td>5.8</td>\n",
       "    </tr>\n",
       "    <tr>\n",
       "      <th>3</th>\n",
       "      <td>80.0</td>\n",
       "      <td>10.8</td>\n",
       "    </tr>\n",
       "    <tr>\n",
       "      <th>4</th>\n",
       "      <td>60.0</td>\n",
       "      <td>-9.2</td>\n",
       "    </tr>\n",
       "    <tr>\n",
       "      <th>5</th>\n",
       "      <td>50.0</td>\n",
       "      <td>-19.2</td>\n",
       "    </tr>\n",
       "    <tr>\n",
       "      <th>6</th>\n",
       "      <td>85.0</td>\n",
       "      <td>15.8</td>\n",
       "    </tr>\n",
       "    <tr>\n",
       "      <th>7</th>\n",
       "      <td>68.0</td>\n",
       "      <td>-1.2</td>\n",
       "    </tr>\n",
       "    <tr>\n",
       "      <th>8</th>\n",
       "      <td>72.0</td>\n",
       "      <td>2.8</td>\n",
       "    </tr>\n",
       "    <tr>\n",
       "      <th>9</th>\n",
       "      <td>77.0</td>\n",
       "      <td>7.8</td>\n",
       "    </tr>\n",
       "  </tbody>\n",
       "</table>\n",
       "</div>"
      ],
      "text/plain": [
       "   Y_weight  y - y_mean\n",
       "0      55.0       -14.2\n",
       "1      70.0         0.8\n",
       "2      75.0         5.8\n",
       "3      80.0        10.8\n",
       "4      60.0        -9.2\n",
       "5      50.0       -19.2\n",
       "6      85.0        15.8\n",
       "7      68.0        -1.2\n",
       "8      72.0         2.8\n",
       "9      77.0         7.8"
      ]
     },
     "execution_count": 789,
     "metadata": {},
     "output_type": "execute_result"
    }
   ],
   "source": [
    "pd.DataFrame(np.column_stack([Y_weight, y]), columns=['Y_weight', 'y - y_mean'])"
   ]
  },
  {
   "cell_type": "markdown",
   "id": "256e1f7d-7619-4f48-9ca3-c3745e1df63e",
   "metadata": {},
   "source": [
    "I can now multiply *(x - x_mean)* and *(y - y_mean)*."
   ]
  },
  {
   "cell_type": "code",
   "execution_count": 790,
   "id": "907f8c81-4a77-481f-a948-e966200220c5",
   "metadata": {},
   "outputs": [
    {
     "data": {
      "text/plain": [
       "array([103.66,  -1.84,  44.66,  29.16,  94.76,  82.56, 200.66,  -0.84,\n",
       "       -14.84,  44.46])"
      ]
     },
     "execution_count": 790,
     "metadata": {},
     "output_type": "execute_result"
    }
   ],
   "source": [
    "# multiply Xi and Yi\n",
    "Xy = X * y\n",
    "Xy"
   ]
  },
  {
   "cell_type": "markdown",
   "id": "43f207fd-aae4-4486-97e2-c44e4d462bc9",
   "metadata": {},
   "source": [
    "Next, get the sum of the result."
   ]
  },
  {
   "cell_type": "code",
   "execution_count": 791,
   "id": "a44adbdb-8fdc-49e1-97ad-2f72d92a797a",
   "metadata": {},
   "outputs": [
    {
     "data": {
      "text/plain": [
       "582.4"
      ]
     },
     "execution_count": 791,
     "metadata": {},
     "output_type": "execute_result"
    }
   ],
   "source": [
    "Xy_sum = Xy.sum()\n",
    "Xy.sum()"
   ]
  },
  {
   "cell_type": "markdown",
   "id": "8a60e642-fa15-41e6-aefe-4a6bc8db2c0f",
   "metadata": {},
   "source": [
    "Then, get the **E(x - x_mean)^2**"
   ]
  },
  {
   "cell_type": "code",
   "execution_count": 792,
   "id": "4f881c20-db64-47e5-9874-29700b9f901f",
   "metadata": {},
   "outputs": [
    {
     "data": {
      "text/plain": [
       "472.09999999999997"
      ]
     },
     "execution_count": 792,
     "metadata": {},
     "output_type": "execute_result"
    }
   ],
   "source": [
    "X_squared = np.square(X)\n",
    "squared_sum = X_squared.sum()\n",
    "np.square(X).sum()"
   ]
  },
  {
   "cell_type": "markdown",
   "id": "eb2b6b78-b46d-4692-b26c-7f4cadf14e0a",
   "metadata": {},
   "source": [
    "Finally, I can perform the division part now and get **b**."
   ]
  },
  {
   "cell_type": "code",
   "execution_count": 793,
   "id": "26c4e61c-863d-4093-b306-7bc3ec1fef1a",
   "metadata": {},
   "outputs": [],
   "source": [
    "b = Xy_sum / squared_sum"
   ]
  },
  {
   "cell_type": "code",
   "execution_count": 794,
   "id": "9ae68213-cf36-4fe0-8934-b5e449fbb0b1",
   "metadata": {},
   "outputs": [
    {
     "data": {
      "text/plain": [
       "1.23"
      ]
     },
     "execution_count": 794,
     "metadata": {},
     "output_type": "execute_result"
    }
   ],
   "source": [
    "b.round(2)"
   ]
  },
  {
   "cell_type": "markdown",
   "id": "aac20413-d743-477e-a5c4-66ac169b47ab",
   "metadata": {},
   "source": [
    "The implementation as a function would be:"
   ]
  },
  {
   "cell_type": "code",
   "execution_count": 795,
   "id": "c5c27118-53ca-4708-8f24-ed3c99537f1b",
   "metadata": {},
   "outputs": [],
   "source": [
    "def find_b(XX, yy):\n",
    "    # get mean\n",
    "    mean_xx_age = mean(XX)\n",
    "    mean_yy_weight = mean(yy)\n",
    "\n",
    "    # subtract mean\n",
    "    XX_sub = XX - mean_xx_age\n",
    "    yy_sub = yy - mean_yy_weight\n",
    "\n",
    "    # multiply the result from subtraction\n",
    "    XXyy = XX_sub * yy_sub\n",
    "\n",
    "    # get sum\n",
    "    XXyy_sum = XXyy.sum()\n",
    "\n",
    "    # get bottom part of formula\n",
    "    XX_squared = np.square(XX_sub)\n",
    "    squared_sum = XX_squared.sum()\n",
    "    \n",
    "    # return b\n",
    "    return XXyy_sum / squared_sum"
   ]
  },
  {
   "cell_type": "code",
   "execution_count": 796,
   "id": "2f331411-4189-4510-bd39-fe03628ffb4e",
   "metadata": {},
   "outputs": [
    {
     "data": {
      "text/plain": [
       "1.23"
      ]
     },
     "execution_count": 796,
     "metadata": {},
     "output_type": "execute_result"
    }
   ],
   "source": [
    "find_b(X_age, Y_weight).round(2)"
   ]
  },
  {
   "cell_type": "markdown",
   "id": "523280cf-39ab-4c12-92f2-2bc0a87b2dd6",
   "metadata": {},
   "source": [
    "Since **b** is taken care of, it's time to find **a**.\n",
    "\n",
    "The formula for a is:\n",
    "\n",
    "```\n",
    "a = y_mean - b * x_mean\n",
    "```"
   ]
  },
  {
   "cell_type": "markdown",
   "id": "0b5e1f00-c285-46ad-b8b0-231614dedf2b",
   "metadata": {},
   "source": [
    "Using the declared variables above, it would be:"
   ]
  },
  {
   "cell_type": "code",
   "execution_count": 797,
   "id": "0197c5df-7f52-4b06-ab8f-9f2e46cf7258",
   "metadata": {},
   "outputs": [],
   "source": [
    "a = mean_Y_weight - b * mean_x_age"
   ]
  },
  {
   "cell_type": "code",
   "execution_count": 798,
   "id": "4022b209-acd9-47a8-9590-72224ced130e",
   "metadata": {},
   "outputs": [
    {
     "data": {
      "text/plain": [
       "29.35"
      ]
     },
     "execution_count": 798,
     "metadata": {},
     "output_type": "execute_result"
    }
   ],
   "source": [
    "a.round(2)"
   ]
  },
  {
   "cell_type": "code",
   "execution_count": 799,
   "id": "b63403c3-4564-4c15-84cd-79bcd87ae04f",
   "metadata": {},
   "outputs": [],
   "source": [
    "def find_a(y_mean, x_mean, b):\n",
    "    return y_mean - b * x_mean"
   ]
  },
  {
   "cell_type": "code",
   "execution_count": 800,
   "id": "531a1bb8-9c8b-4f60-8239-020628c23afb",
   "metadata": {},
   "outputs": [
    {
     "data": {
      "text/plain": [
       "29.35"
      ]
     },
     "execution_count": 800,
     "metadata": {},
     "output_type": "execute_result"
    }
   ],
   "source": [
    "find_a(mean_Y_weight, mean_x_age, b).round(2)"
   ]
  },
  {
   "cell_type": "markdown",
   "id": "89c85f15-b278-427a-abd9-eb47fcddc4bb",
   "metadata": {},
   "source": [
    "Having both **a** and **b**, I can now perform predictions for values ***x***.\n",
    "\n",
    "```\n",
    "y = a + bx\n",
    "```"
   ]
  },
  {
   "cell_type": "markdown",
   "id": "0c44c9b3-4b30-4db0-ac9e-5baff57c2cec",
   "metadata": {},
   "source": [
    "### The predicted weight for a person of age 36 according to the linear regression model"
   ]
  },
  {
   "cell_type": "code",
   "execution_count": 801,
   "id": "b98a5334-0b66-4550-a794-f3c8edec9637",
   "metadata": {},
   "outputs": [],
   "source": [
    "weight_prediction = a + b * 36"
   ]
  },
  {
   "cell_type": "code",
   "execution_count": 868,
   "id": "06ef081c-9510-4082-a18e-6a5cb372af5e",
   "metadata": {},
   "outputs": [
    {
     "name": "stdout",
     "output_type": "stream",
     "text": [
      "73.76 kg\n"
     ]
    }
   ],
   "source": [
    "print(weight_prediction.round(2), 'kg')"
   ]
  },
  {
   "cell_type": "markdown",
   "id": "66c7cbfb-8382-446c-8e17-92cb7f87be27",
   "metadata": {},
   "source": [
    "# Seatwork Problem 7"
   ]
  },
  {
   "cell_type": "markdown",
   "id": "91e996fe-8292-435c-9fde-bc7b0af40b04",
   "metadata": {},
   "source": [
    "Using Linear Regression by Least Square, obtain the following from the given sample data:\n",
    "\n",
    "```\n",
    "X_midterm_score = [70, 80, 85, 90, 60, 75, 85, 50]\n",
    "y_final_grade = [82, 88, 92, 96, 68, 78, 90, 58]\n",
    "```\n",
    "\n",
    "1. Use the method of Least Squares to find the equation for the predicting final grade given the midterm score.\n",
    "2. Predict the final grade of a student who had a midterm score of 95."
   ]
  },
  {
   "cell_type": "markdown",
   "id": "e62f62e0-00bc-4d3e-9950-fb59c647e4a2",
   "metadata": {},
   "source": [
    "Knowing the formula\n",
    "\n",
    "```\n",
    "y = a + bx\n",
    "```\n",
    "\n",
    "I just need the ***find_b()*** and ***find_a()*** functions."
   ]
  },
  {
   "cell_type": "code",
   "execution_count": 803,
   "id": "9dd5b1c2-9694-482b-8a73-819acb68c917",
   "metadata": {},
   "outputs": [],
   "source": [
    "X_midterm_score = np.array([70, 80, 85, 90, 60, 75, 85, 50])\n",
    "y_final_grade = np.array([82, 88, 92, 96, 68, 78, 90, 58])"
   ]
  },
  {
   "cell_type": "code",
   "execution_count": 804,
   "id": "17b4f584-aefd-4255-be19-3e393bab2368",
   "metadata": {},
   "outputs": [
    {
     "data": {
      "text/plain": [
       "0.93"
      ]
     },
     "execution_count": 804,
     "metadata": {},
     "output_type": "execute_result"
    }
   ],
   "source": [
    "b = find_b(X_midterm_score, y_final_grade)\n",
    "b.round(2)"
   ]
  },
  {
   "cell_type": "code",
   "execution_count": 805,
   "id": "71e363ab-ceef-4ab3-8f1c-34221420bb20",
   "metadata": {},
   "outputs": [
    {
     "data": {
      "text/plain": [
       "12.43"
      ]
     },
     "execution_count": 805,
     "metadata": {},
     "output_type": "execute_result"
    }
   ],
   "source": [
    "a = find_a(mean(y_final_grade), mean(X_midterm_score), b)\n",
    "a.round(2)"
   ]
  },
  {
   "cell_type": "markdown",
   "id": "20ff9263-3ff8-48a5-92fe-6bfd9df5e34b",
   "metadata": {},
   "source": [
    "### Now, I am able to predict the final grade of a student with a 95 midterm score"
   ]
  },
  {
   "cell_type": "code",
   "execution_count": 806,
   "id": "455282af-4ec0-4cf8-ad79-0d39828859da",
   "metadata": {},
   "outputs": [],
   "source": [
    "grade_prediction = a + b * (95)"
   ]
  },
  {
   "cell_type": "code",
   "execution_count": 807,
   "id": "8661aa62-92db-4543-9ac1-e119dc1f799b",
   "metadata": {},
   "outputs": [
    {
     "data": {
      "text/plain": [
       "100.65"
      ]
     },
     "execution_count": 807,
     "metadata": {},
     "output_type": "execute_result"
    }
   ],
   "source": [
    "# max(grade_prediction 100) if the limit is 100\n",
    "grade_prediction.round(2)"
   ]
  }
 ],
 "metadata": {
  "kernelspec": {
   "display_name": "Python 3 (ipykernel)",
   "language": "python",
   "name": "python3"
  },
  "language_info": {
   "codemirror_mode": {
    "name": "ipython",
    "version": 3
   },
   "file_extension": ".py",
   "mimetype": "text/x-python",
   "name": "python",
   "nbconvert_exporter": "python",
   "pygments_lexer": "ipython3",
   "version": "3.11.9"
  }
 },
 "nbformat": 4,
 "nbformat_minor": 5
}
